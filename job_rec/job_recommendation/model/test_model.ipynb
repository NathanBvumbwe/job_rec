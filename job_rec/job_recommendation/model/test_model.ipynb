{
 "cells": [
  {
   "cell_type": "code",
   "execution_count": null,
   "id": "71c2c87d-f16f-49a1-bf59-36fb4bdb1b0c",
   "metadata": {
    "id": "71c2c87d-f16f-49a1-bf59-36fb4bdb1b0c"
   },
   "outputs": [],
   "source": []
  },
  {
   "cell_type": "code",
   "execution_count": 1,
   "id": "w6E1AvUG_yQ_",
   "metadata": {
    "colab": {
     "base_uri": "https://localhost:8080/"
    },
    "executionInfo": {
     "elapsed": 55544,
     "status": "ok",
     "timestamp": 1751457544930,
     "user": {
      "displayName": "Theo",
      "userId": "18277931603664461543"
     },
     "user_tz": -120
    },
    "id": "w6E1AvUG_yQ_",
    "outputId": "0e4cba8b-28b3-4b14-c89b-03c0710d24be"
   },
   "outputs": [
    {
     "name": "stdout",
     "output_type": "stream",
     "text": [
      "Mounted at /content/drive\n"
     ]
    }
   ],
   "source": [
    "from google.colab import drive\n",
    "drive.mount('/content/drive')"
   ]
  },
  {
   "cell_type": "code",
   "execution_count": 2,
   "id": "7bc04406-de6b-4347-97da-81c5f37d6c82",
   "metadata": {
    "executionInfo": {
     "elapsed": 62,
     "status": "ok",
     "timestamp": 1751457754880,
     "user": {
      "displayName": "Theo",
      "userId": "18277931603664461543"
     },
     "user_tz": -120
    },
    "id": "7bc04406-de6b-4347-97da-81c5f37d6c82"
   },
   "outputs": [],
   "source": [
    "folder_path = '/content/drive/MyDrive/first model ever'\n"
   ]
  },
  {
   "cell_type": "code",
   "execution_count": 3,
   "id": "e40effba-678a-4467-8d51-0937d44cdec8",
   "metadata": {
    "colab": {
     "base_uri": "https://localhost:8080/"
    },
    "executionInfo": {
     "elapsed": 38,
     "status": "ok",
     "timestamp": 1751457771497,
     "user": {
      "displayName": "Theo",
      "userId": "18277931603664461543"
     },
     "user_tz": -120
    },
    "id": "e40effba-678a-4467-8d51-0937d44cdec8",
    "outputId": "f54b8194-9735-4063-aa0e-4412e2d62e2e"
   },
   "outputs": [
    {
     "name": "stdout",
     "output_type": "stream",
     "text": [
      "job_data.csv\n",
      ".ipynb_checkpoints\n",
      "download.png\n",
      "config.json\n",
      "label_encoder.pkl\n",
      "tokenizer_config.json\n",
      "vocab.txt\n",
      "special_tokens_map.json\n",
      "Untitled.ipynb\n"
     ]
    }
   ],
   "source": [
    "import os\n",
    "\n",
    "for file in os.listdir(folder_path):\n",
    "    print(file)\n"
   ]
  },
  {
   "cell_type": "code",
   "execution_count": 4,
   "id": "27887938-91f3-4c38-af74-0cbd4c00cb78",
   "metadata": {
    "colab": {
     "base_uri": "https://localhost:8080/",
     "height": 211
    },
    "executionInfo": {
     "elapsed": 1867,
     "status": "error",
     "timestamp": 1751457837728,
     "user": {
      "displayName": "Theo",
      "userId": "18277931603664461543"
     },
     "user_tz": -120
    },
    "id": "27887938-91f3-4c38-af74-0cbd4c00cb78",
    "outputId": "67099932-42ab-4c1d-f4ce-e36421519086"
   },
   "outputs": [
    {
     "ename": "UnpicklingError",
     "evalue": "STACK_GLOBAL requires str",
     "output_type": "error",
     "traceback": [
      "\u001b[0;31m---------------------------------------------------------------------------\u001b[0m",
      "\u001b[0;31mUnpicklingError\u001b[0m                           Traceback (most recent call last)",
      "\u001b[0;32m/tmp/ipython-input-4-2473479656.py\u001b[0m in \u001b[0;36m<cell line: 0>\u001b[0;34m()\u001b[0m\n\u001b[1;32m      5\u001b[0m \u001b[0;34m\u001b[0m\u001b[0m\n\u001b[1;32m      6\u001b[0m \u001b[0;32mwith\u001b[0m \u001b[0mopen\u001b[0m\u001b[0;34m(\u001b[0m\u001b[0mlabel_encoder_path\u001b[0m\u001b[0;34m,\u001b[0m \u001b[0;34m'rb'\u001b[0m\u001b[0;34m)\u001b[0m \u001b[0;32mas\u001b[0m \u001b[0mf\u001b[0m\u001b[0;34m:\u001b[0m\u001b[0;34m\u001b[0m\u001b[0;34m\u001b[0m\u001b[0m\n\u001b[0;32m----> 7\u001b[0;31m     \u001b[0mlabel_encoder\u001b[0m \u001b[0;34m=\u001b[0m \u001b[0mpickle\u001b[0m\u001b[0;34m.\u001b[0m\u001b[0mload\u001b[0m\u001b[0;34m(\u001b[0m\u001b[0mf\u001b[0m\u001b[0;34m)\u001b[0m\u001b[0;34m\u001b[0m\u001b[0;34m\u001b[0m\u001b[0m\n\u001b[0m\u001b[1;32m      8\u001b[0m \u001b[0;34m\u001b[0m\u001b[0m\n\u001b[1;32m      9\u001b[0m \u001b[0mprint\u001b[0m\u001b[0;34m(\u001b[0m\u001b[0;34m\"✅ Label encoder loaded successfully.\"\u001b[0m\u001b[0;34m)\u001b[0m\u001b[0;34m\u001b[0m\u001b[0;34m\u001b[0m\u001b[0m\n",
      "\u001b[0;31mUnpicklingError\u001b[0m: STACK_GLOBAL requires str"
     ]
    }
   ],
   "source": [
    "import pickle\n",
    "\n",
    "# Example: load label encoder\n",
    "label_encoder_path = os.path.join(folder_path, 'label_encoder.pkl')\n",
    "\n",
    "with open(label_encoder_path, 'rb') as f:\n",
    "    label_encoder = pickle.load(f)\n",
    "\n",
    "print(\"✅ Label encoder loaded successfully.\")\n"
   ]
  },
  {
   "cell_type": "code",
   "execution_count": 5,
   "id": "46417b67-fecd-49c2-bd8e-e8fb5e251f2c",
   "metadata": {
    "colab": {
     "base_uri": "https://localhost:8080/"
    },
    "executionInfo": {
     "elapsed": 53,
     "status": "ok",
     "timestamp": 1751458025807,
     "user": {
      "displayName": "Theo",
      "userId": "18277931603664461543"
     },
     "user_tz": -120
    },
    "id": "46417b67-fecd-49c2-bd8e-e8fb5e251f2c",
    "outputId": "71435d63-3f68-4135-d197-d5d02e4d3a7c"
   },
   "outputs": [
    {
     "name": "stdout",
     "output_type": "stream",
     "text": [
      "✅ Label encoder loaded successfully.\n"
     ]
    }
   ],
   "source": [
    "import joblib\n",
    "\n",
    "label_encoder_path = '/content/drive/MyDrive/first model ever/label_encoder.pkl'\n",
    "label_encoder = joblib.load(label_encoder_path)\n",
    "\n",
    "print(\"✅ Label encoder loaded successfully.\")\n"
   ]
  },
  {
   "cell_type": "code",
   "execution_count": 6,
   "id": "Mow-hX8UC7Mu",
   "metadata": {
    "executionInfo": {
     "elapsed": 46,
     "status": "ok",
     "timestamp": 1751458234161,
     "user": {
      "displayName": "Theo",
      "userId": "18277931603664461543"
     },
     "user_tz": -120
    },
    "id": "Mow-hX8UC7Mu"
   },
   "outputs": [],
   "source": [
    "model_dir = '/content/drive/MyDrive/first model ever'\n"
   ]
  },
  {
   "cell_type": "code",
   "execution_count": 8,
   "id": "Q4rmcwAuC7JK",
   "metadata": {
    "colab": {
     "base_uri": "https://localhost:8080/"
    },
    "executionInfo": {
     "elapsed": 8269,
     "status": "ok",
     "timestamp": 1751459900057,
     "user": {
      "displayName": "Theo",
      "userId": "18277931603664461543"
     },
     "user_tz": -120
    },
    "id": "Q4rmcwAuC7JK",
    "outputId": "9211c613-2db8-4bdb-bd6d-3e7be44995be"
   },
   "outputs": [
    {
     "name": "stdout",
     "output_type": "stream",
     "text": [
      "✅ Model and tokenizer loaded successfully.\n"
     ]
    }
   ],
   "source": [
    "from transformers import AutoTokenizer, AutoModelForSequenceClassification\n",
    "\n",
    "# Load tokenizer\n",
    "tokenizer = AutoTokenizer.from_pretrained(model_dir)\n",
    "\n",
    "# Load model (for classification)\n",
    "model = AutoModelForSequenceClassification.from_pretrained(\n",
    "    model_dir,\n",
    "    use_safetensors=True\n",
    ")\n",
    "\n",
    "print(\"✅ Model and tokenizer loaded successfully.\")\n"
   ]
  },
  {
   "cell_type": "code",
   "execution_count": 11,
   "id": "jqSOgGtZJ5Ft",
   "metadata": {
    "colab": {
     "base_uri": "https://localhost:8080/"
    },
    "executionInfo": {
     "elapsed": 496,
     "status": "ok",
     "timestamp": 1751461166193,
     "user": {
      "displayName": "Theo",
      "userId": "18277931603664461543"
     },
     "user_tz": -120
    },
    "id": "jqSOgGtZJ5Ft",
    "outputId": "2559d3ef-a6ef-444a-b859-a4ea3a6575e4"
   },
   "outputs": [
    {
     "name": "stdout",
     "output_type": "stream",
     "text": [
      "🔮 Predicted class index: 6\n",
      "✅ Decoded label: Healthcare\n"
     ]
    }
   ],
   "source": [
    "import torch\n",
    "\n",
    "# Sample input\n",
    "text = \"nursing and mid-wifery.\"\n",
    "\n",
    "# Tokenize input\n",
    "inputs = tokenizer(text, return_tensors=\"pt\", truncation=True, padding=True)\n",
    "\n",
    "# Run model\n",
    "with torch.no_grad():\n",
    "    outputs = model(**inputs)\n",
    "    logits = outputs.logits\n",
    "    predicted_class = torch.argmax(logits, dim=1).item()\n",
    "\n",
    "print(\"🔮 Predicted class index:\", predicted_class)\n",
    "\n",
    "# Optionally decode label using label_encoder (if available)\n",
    "if 'label_encoder' in locals():\n",
    "    decoded = label_encoder.inverse_transform([predicted_class])[0]\n",
    "    print(\"✅ Decoded label:\", decoded)\n"
   ]
  },
  {
   "cell_type": "code",
   "execution_count": null,
   "id": "Kte9GpR4J41z",
   "metadata": {
    "id": "Kte9GpR4J41z"
   },
   "outputs": [],
   "source": []
  },
  {
   "cell_type": "code",
   "execution_count": null,
   "id": "TVOEIxBqC7Gj",
   "metadata": {
    "id": "TVOEIxBqC7Gj"
   },
   "outputs": [],
   "source": []
  },
  {
   "cell_type": "markdown",
   "id": "O8OFP8FHEbfF",
   "metadata": {
    "id": "O8OFP8FHEbfF"
   },
   "source": [
    "# UNZIPING OUR ZIP FILE TO TEST A MODEL"
   ]
  },
  {
   "cell_type": "code",
   "execution_count": null,
   "id": "grk0WfF7C7EP",
   "metadata": {
    "id": "grk0WfF7C7EP"
   },
   "outputs": [],
   "source": []
  },
  {
   "cell_type": "code",
   "execution_count": null,
   "id": "YQsE3GfeC7Bm",
   "metadata": {
    "id": "YQsE3GfeC7Bm"
   },
   "outputs": [],
   "source": []
  },
  {
   "cell_type": "code",
   "execution_count": null,
   "id": "X2KBC_YVC6_8",
   "metadata": {
    "id": "X2KBC_YVC6_8"
   },
   "outputs": [],
   "source": []
  },
  {
   "cell_type": "code",
   "execution_count": null,
   "id": "pAIVb-HjC697",
   "metadata": {
    "id": "pAIVb-HjC697"
   },
   "outputs": [],
   "source": []
  },
  {
   "cell_type": "code",
   "execution_count": null,
   "id": "IJan-NnpC67C",
   "metadata": {
    "id": "IJan-NnpC67C"
   },
   "outputs": [],
   "source": []
  },
  {
   "cell_type": "code",
   "execution_count": null,
   "id": "R6mpO9ePC64W",
   "metadata": {
    "id": "R6mpO9ePC64W"
   },
   "outputs": [],
   "source": []
  },
  {
   "cell_type": "code",
   "execution_count": null,
   "id": "XHlkha00C61w",
   "metadata": {
    "id": "XHlkha00C61w"
   },
   "outputs": [],
   "source": []
  },
  {
   "cell_type": "code",
   "execution_count": null,
   "id": "wGnwpl0XC6y6",
   "metadata": {
    "id": "wGnwpl0XC6y6"
   },
   "outputs": [],
   "source": []
  }
 ],
 "metadata": {
  "colab": {
   "provenance": []
  },
  "kernelspec": {
   "display_name": "Python 3 (ipykernel)",
   "language": "python",
   "name": "python3"
  },
  "language_info": {
   "codemirror_mode": {
    "name": "ipython",
    "version": 3
   },
   "file_extension": ".py",
   "mimetype": "text/x-python",
   "name": "python",
   "nbconvert_exporter": "python",
   "pygments_lexer": "ipython3",
   "version": "3.11.7"
  }
 },
 "nbformat": 4,
 "nbformat_minor": 5
}
